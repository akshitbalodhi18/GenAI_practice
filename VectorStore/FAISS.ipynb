{
 "cells": [
  {
   "cell_type": "markdown",
   "metadata": {},
   "source": [
    "### FAISS VectorStore\n",
    "\n",
    "FAISS which also stands for Facebook AI Similarity Search is a library for efficient similarity search and clustering of dense vectors. We can use it for similarity searching and for vector database storage"
   ]
  },
  {
   "cell_type": "code",
   "execution_count": 1,
   "metadata": {},
   "outputs": [],
   "source": [
    "import os\n",
    "from dotenv import load_dotenv\n",
    "load_dotenv()\n",
    "os.environ[\"LANGCHAIN_TRACING_V2\"]=\"true\"\n",
    "os.environ[\"LANGCHAIN_API_KEY\"]=os.getenv(\"LANGCHAIN_API_KEY\")\n"
   ]
  },
  {
   "cell_type": "code",
   "execution_count": 2,
   "metadata": {},
   "outputs": [],
   "source": [
    "from langchain_community.document_loaders import TextLoader\n",
    "from langchain_text_splitters import CharacterTextSplitter\n",
    "from langchain_ollama import OllamaEmbeddings\n",
    "from langchain_community.vectorstores import FAISS\n"
   ]
  },
  {
   "cell_type": "code",
   "execution_count": 3,
   "metadata": {},
   "outputs": [
    {
     "data": {
      "text/plain": [
       "[Document(metadata={'source': 'speech.txt'}, page_content=\"Apples usually have a few seeds, maybe 5 to 10.\\n\\nOranges have a bit more, around 10 to 15.\\n\\nWatermelons are champions! They can have hundreds of seeds, sometimes even 600!\\n\\nStrawberries are tiny, but they have lots of tiny seeds too, about 200 in each one.\\n\\nBananas are special because they usually don't have any seeds at all.\")]"
      ]
     },
     "execution_count": 3,
     "metadata": {},
     "output_type": "execute_result"
    }
   ],
   "source": [
    "#Ingestion of documents\n",
    "loader = TextLoader(\"speech.txt\")\n",
    "docs = loader.load()\n",
    "docs"
   ]
  },
  {
   "cell_type": "code",
   "execution_count": 4,
   "metadata": {},
   "outputs": [
    {
     "data": {
      "text/plain": [
       "[Document(metadata={'source': 'speech.txt'}, page_content='Apples usually have a few seeds, maybe 5 to 10.\\n\\nOranges have a bit more, around 10 to 15.'),\n",
       " Document(metadata={'source': 'speech.txt'}, page_content='Watermelons are champions! They can have hundreds of seeds, sometimes even 600!'),\n",
       " Document(metadata={'source': 'speech.txt'}, page_content='Strawberries are tiny, but they have lots of tiny seeds too, about 200 in each one.'),\n",
       " Document(metadata={'source': 'speech.txt'}, page_content=\"Bananas are special because they usually don't have any seeds at all.\")]"
      ]
     },
     "execution_count": 4,
     "metadata": {},
     "output_type": "execute_result"
    }
   ],
   "source": [
    "##Splitting of documents\n",
    "text_splitter = CharacterTextSplitter(chunk_size=100, chunk_overlap=10)\n",
    "final_docs = text_splitter.split_documents(docs)\n",
    "final_docs"
   ]
  },
  {
   "cell_type": "code",
   "execution_count": 5,
   "metadata": {},
   "outputs": [
    {
     "data": {
      "text/plain": [
       "<langchain_community.vectorstores.faiss.FAISS at 0x1c189181340>"
      ]
     },
     "execution_count": 5,
     "metadata": {},
     "output_type": "execute_result"
    }
   ],
   "source": [
    "#Creating embeddings and then creating a vector database using splitted documents and embeddings\n",
    "embeddings = (\n",
    "    OllamaEmbeddings(model=\"llama3.2\")\n",
    ")\n",
    "db = FAISS.from_documents(final_docs,embeddings)\n",
    "db"
   ]
  },
  {
   "cell_type": "markdown",
   "metadata": {},
   "source": [
    "#### This is a query that we will use for all types of querying"
   ]
  },
  {
   "cell_type": "code",
   "execution_count": 6,
   "metadata": {},
   "outputs": [],
   "source": [
    "query = \"seeds in apple?\""
   ]
  },
  {
   "cell_type": "code",
   "execution_count": 7,
   "metadata": {},
   "outputs": [
    {
     "data": {
      "text/plain": [
       "[Document(id='0e83385c-54a6-4d49-b9d2-012489a3efa5', metadata={'source': 'speech.txt'}, page_content='Strawberries are tiny, but they have lots of tiny seeds too, about 200 in each one.'),\n",
       " Document(id='1d4532a5-de5f-43ee-90ab-398f34caafc8', metadata={'source': 'speech.txt'}, page_content='Watermelons are champions! They can have hundreds of seeds, sometimes even 600!'),\n",
       " Document(id='9b92730f-dc8e-49a8-a488-b835d508ae40', metadata={'source': 'speech.txt'}, page_content=\"Bananas are special because they usually don't have any seeds at all.\"),\n",
       " Document(id='28fd271c-79dc-462c-ad34-73e37a7e89d7', metadata={'source': 'speech.txt'}, page_content='Apples usually have a few seeds, maybe 5 to 10.\\n\\nOranges have a bit more, around 10 to 15.')]"
      ]
     },
     "execution_count": 7,
     "metadata": {},
     "output_type": "execute_result"
    }
   ],
   "source": [
    "#Normal similarity search\n",
    "result = db.similarity_search(query)\n",
    "result"
   ]
  },
  {
   "cell_type": "code",
   "execution_count": 14,
   "metadata": {},
   "outputs": [
    {
     "data": {
      "text/plain": [
       "[(Document(id='0e83385c-54a6-4d49-b9d2-012489a3efa5', metadata={'source': 'speech.txt'}, page_content='Strawberries are tiny, but they have lots of tiny seeds too, about 200 in each one.'),\n",
       "  0.7833785),\n",
       " (Document(id='1d4532a5-de5f-43ee-90ab-398f34caafc8', metadata={'source': 'speech.txt'}, page_content='Watermelons are champions! They can have hundreds of seeds, sometimes even 600!'),\n",
       "  0.8181919),\n",
       " (Document(id='9b92730f-dc8e-49a8-a488-b835d508ae40', metadata={'source': 'speech.txt'}, page_content=\"Bananas are special because they usually don't have any seeds at all.\"),\n",
       "  1.173011),\n",
       " (Document(id='28fd271c-79dc-462c-ad34-73e37a7e89d7', metadata={'source': 'speech.txt'}, page_content='Apples usually have a few seeds, maybe 5 to 10.\\n\\nOranges have a bit more, around 10 to 15.'),\n",
       "  1.2151376)]"
      ]
     },
     "execution_count": 14,
     "metadata": {},
     "output_type": "execute_result"
    }
   ],
   "source": [
    "#Similarity search with score. Lower score means less distance means better probability of this being the answer\n",
    "result2 = db.similarity_search_with_score(query)\n",
    "result2\n"
   ]
  },
  {
   "cell_type": "code",
   "execution_count": null,
   "metadata": {},
   "outputs": [
    {
     "data": {
      "text/plain": [
       "[(Document(id='0e83385c-54a6-4d49-b9d2-012489a3efa5', metadata={'source': 'speech.txt'}, page_content='Strawberries are tiny, but they have lots of tiny seeds too, about 200 in each one.'),\n",
       "  1.5516274),\n",
       " (Document(id='1d4532a5-de5f-43ee-90ab-398f34caafc8', metadata={'source': 'speech.txt'}, page_content='Watermelons are champions! They can have hundreds of seeds, sometimes even 600!'),\n",
       "  1.5685515),\n",
       " (Document(id='9b92730f-dc8e-49a8-a488-b835d508ae40', metadata={'source': 'speech.txt'}, page_content=\"Bananas are special because they usually don't have any seeds at all.\"),\n",
       "  1.5944684),\n",
       " (Document(id='28fd271c-79dc-462c-ad34-73e37a7e89d7', metadata={'source': 'speech.txt'}, page_content='Apples usually have a few seeds, maybe 5 to 10.\\n\\nOranges have a bit more, around 10 to 15.'),\n",
       "  1.7485698)]"
      ]
     },
     "execution_count": 15,
     "metadata": {},
     "output_type": "execute_result"
    }
   ],
   "source": [
    "#We can also query vectors\n",
    "vector = embeddings.embed_query(\"Seeds in banana\")\n",
    "result3 = db.similarity_search_with_score_by_vector(vector)\n",
    "result3\n"
   ]
  },
  {
   "cell_type": "markdown",
   "metadata": {},
   "source": [
    "### Retriever\n",
    "\n",
    "This is a very important component. We can convert the vector store into a retriever class. This allows us to use langchain methods of querying and other stuff which largely work with retrievers and not vectorstore"
   ]
  },
  {
   "cell_type": "code",
   "execution_count": 10,
   "metadata": {},
   "outputs": [
    {
     "data": {
      "text/plain": [
       "[Document(id='0e83385c-54a6-4d49-b9d2-012489a3efa5', metadata={'source': 'speech.txt'}, page_content='Strawberries are tiny, but they have lots of tiny seeds too, about 200 in each one.'),\n",
       " Document(id='1d4532a5-de5f-43ee-90ab-398f34caafc8', metadata={'source': 'speech.txt'}, page_content='Watermelons are champions! They can have hundreds of seeds, sometimes even 600!'),\n",
       " Document(id='9b92730f-dc8e-49a8-a488-b835d508ae40', metadata={'source': 'speech.txt'}, page_content=\"Bananas are special because they usually don't have any seeds at all.\"),\n",
       " Document(id='28fd271c-79dc-462c-ad34-73e37a7e89d7', metadata={'source': 'speech.txt'}, page_content='Apples usually have a few seeds, maybe 5 to 10.\\n\\nOranges have a bit more, around 10 to 15.')]"
      ]
     },
     "execution_count": 10,
     "metadata": {},
     "output_type": "execute_result"
    }
   ],
   "source": [
    "retriever1 = db.as_retriever()\n",
    "retriever1.invoke(query)"
   ]
  },
  {
   "cell_type": "markdown",
   "metadata": {},
   "source": [
    "#### We can also save our database in the form of pickel and can also load it"
   ]
  },
  {
   "cell_type": "code",
   "execution_count": 11,
   "metadata": {},
   "outputs": [
    {
     "ename": "ValueError",
     "evalue": "The de-serialization relies loading a pickle file. Pickle files can be modified to deliver a malicious payload that results in execution of arbitrary code on your machine.You will need to set `allow_dangerous_deserialization` to `True` to enable deserialization. If you do this, make sure that you trust the source of the data. For example, if you are loading a file that you created, and know that no one else has modified the file, then this is safe to do. Do not set this to `True` if you are loading a file from an untrusted source (e.g., some random site on the internet.).",
     "output_type": "error",
     "traceback": [
      "\u001b[1;31m---------------------------------------------------------------------------\u001b[0m",
      "\u001b[1;31mValueError\u001b[0m                                Traceback (most recent call last)",
      "Cell \u001b[1;32mIn[11], line 5\u001b[0m\n\u001b[0;32m      2\u001b[0m db\u001b[38;5;241m.\u001b[39msave_local(\u001b[38;5;124m\"\u001b[39m\u001b[38;5;124mfaiss_index\u001b[39m\u001b[38;5;124m\"\u001b[39m)\n\u001b[0;32m      4\u001b[0m \u001b[38;5;66;03m#Loading a database\u001b[39;00m\n\u001b[1;32m----> 5\u001b[0m newdb \u001b[38;5;241m=\u001b[39m FAISS\u001b[38;5;241m.\u001b[39mload_local(\u001b[38;5;124m\"\u001b[39m\u001b[38;5;124mfaiss_index\u001b[39m\u001b[38;5;124m\"\u001b[39m,embeddings)\n",
      "File \u001b[1;32m~\\AppData\\Roaming\\Python\\Python312\\site-packages\\langchain_community\\vectorstores\\faiss.py:1190\u001b[0m, in \u001b[0;36mFAISS.load_local\u001b[1;34m(cls, folder_path, embeddings, index_name, allow_dangerous_deserialization, **kwargs)\u001b[0m\n\u001b[0;32m   1176\u001b[0m \u001b[38;5;250m\u001b[39m\u001b[38;5;124;03m\"\"\"Load FAISS index, docstore, and index_to_docstore_id from disk.\u001b[39;00m\n\u001b[0;32m   1177\u001b[0m \n\u001b[0;32m   1178\u001b[0m \u001b[38;5;124;03mArgs:\u001b[39;00m\n\u001b[1;32m   (...)\u001b[0m\n\u001b[0;32m   1187\u001b[0m \u001b[38;5;124;03m        arbitrary code on your machine.\u001b[39;00m\n\u001b[0;32m   1188\u001b[0m \u001b[38;5;124;03m\"\"\"\u001b[39;00m\n\u001b[0;32m   1189\u001b[0m \u001b[38;5;28;01mif\u001b[39;00m \u001b[38;5;129;01mnot\u001b[39;00m allow_dangerous_deserialization:\n\u001b[1;32m-> 1190\u001b[0m     \u001b[38;5;28;01mraise\u001b[39;00m \u001b[38;5;167;01mValueError\u001b[39;00m(\n\u001b[0;32m   1191\u001b[0m         \u001b[38;5;124m\"\u001b[39m\u001b[38;5;124mThe de-serialization relies loading a pickle file. \u001b[39m\u001b[38;5;124m\"\u001b[39m\n\u001b[0;32m   1192\u001b[0m         \u001b[38;5;124m\"\u001b[39m\u001b[38;5;124mPickle files can be modified to deliver a malicious payload that \u001b[39m\u001b[38;5;124m\"\u001b[39m\n\u001b[0;32m   1193\u001b[0m         \u001b[38;5;124m\"\u001b[39m\u001b[38;5;124mresults in execution of arbitrary code on your machine.\u001b[39m\u001b[38;5;124m\"\u001b[39m\n\u001b[0;32m   1194\u001b[0m         \u001b[38;5;124m\"\u001b[39m\u001b[38;5;124mYou will need to set `allow_dangerous_deserialization` to `True` to \u001b[39m\u001b[38;5;124m\"\u001b[39m\n\u001b[0;32m   1195\u001b[0m         \u001b[38;5;124m\"\u001b[39m\u001b[38;5;124menable deserialization. If you do this, make sure that you \u001b[39m\u001b[38;5;124m\"\u001b[39m\n\u001b[0;32m   1196\u001b[0m         \u001b[38;5;124m\"\u001b[39m\u001b[38;5;124mtrust the source of the data. For example, if you are loading a \u001b[39m\u001b[38;5;124m\"\u001b[39m\n\u001b[0;32m   1197\u001b[0m         \u001b[38;5;124m\"\u001b[39m\u001b[38;5;124mfile that you created, and know that no one else has modified the \u001b[39m\u001b[38;5;124m\"\u001b[39m\n\u001b[0;32m   1198\u001b[0m         \u001b[38;5;124m\"\u001b[39m\u001b[38;5;124mfile, then this is safe to do. Do not set this to `True` if you are \u001b[39m\u001b[38;5;124m\"\u001b[39m\n\u001b[0;32m   1199\u001b[0m         \u001b[38;5;124m\"\u001b[39m\u001b[38;5;124mloading a file from an untrusted source (e.g., some random site on \u001b[39m\u001b[38;5;124m\"\u001b[39m\n\u001b[0;32m   1200\u001b[0m         \u001b[38;5;124m\"\u001b[39m\u001b[38;5;124mthe internet.).\u001b[39m\u001b[38;5;124m\"\u001b[39m\n\u001b[0;32m   1201\u001b[0m     )\n\u001b[0;32m   1202\u001b[0m path \u001b[38;5;241m=\u001b[39m Path(folder_path)\n\u001b[0;32m   1203\u001b[0m \u001b[38;5;66;03m# load index separately since it is not picklable\u001b[39;00m\n",
      "\u001b[1;31mValueError\u001b[0m: The de-serialization relies loading a pickle file. Pickle files can be modified to deliver a malicious payload that results in execution of arbitrary code on your machine.You will need to set `allow_dangerous_deserialization` to `True` to enable deserialization. If you do this, make sure that you trust the source of the data. For example, if you are loading a file that you created, and know that no one else has modified the file, then this is safe to do. Do not set this to `True` if you are loading a file from an untrusted source (e.g., some random site on the internet.)."
     ]
    }
   ],
   "source": [
    "#Saving a database\n",
    "db.save_local(\"faiss_index\")\n",
    "\n",
    "#Loading a database\n",
    "newdb = FAISS.load_local(\"faiss_index\",embeddings)\n"
   ]
  }
 ],
 "metadata": {
  "kernelspec": {
   "display_name": "base",
   "language": "python",
   "name": "python3"
  },
  "language_info": {
   "codemirror_mode": {
    "name": "ipython",
    "version": 3
   },
   "file_extension": ".py",
   "mimetype": "text/x-python",
   "name": "python",
   "nbconvert_exporter": "python",
   "pygments_lexer": "ipython3",
   "version": "3.12.7"
  }
 },
 "nbformat": 4,
 "nbformat_minor": 2
}
